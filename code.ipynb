{
 "cells": [
  {
   "cell_type": "markdown",
   "metadata": {},
   "source": [
    "https://markdown.com.cn/basic-syntax/headings.html\n",
    "# 爬虫入门01\n",
    "HTTP 的请求方式有好几种  \n",
    "GET, POST, PUT, DELETE, HEAD, OPTIONS, TRACE  \n",
    "不过最常见的就是 GET 和 POST 请求  \n",
    "\n",
    "\n",
    "\n",
    "  1.get  \n",
    "百度的搜索模式【？wd=（你要搜索的内容）】 https://www.baidu.com/s?wd=波多野结衣  \n",
    "这个是get的请求方式  \n",
    "url后面加上？然后加参数值  \n",
    "\n",
    "\n",
    "2.post  \n",
    "POST 的参数不会直接放在 URL 上会以 Form 表单的形式将数据提交给服务器。如登录时的页面\n",
    "\n",
    "\n",
    "3.请求头Request Header  \n",
    "我们还有定义一些 HTTP 请求的头部信息  \n",
    "比如 Accept、Host、cookie、User-Agent等等  \n",
    "这些参数也是我们在做爬虫要用到通过这些信息，欺骗服务器，告诉它我们是正规请求  \n",
    "cookie——>我们可以在代码里面设置 cookie 告诉服务器我们就是在这个浏览器请求的会话  \n",
    "User-Agent——>告诉服务器我们是浏览器请求的  \n",
    " \n",
    "4.服务的响应  \n",
    "(i)响应码  \n",
    "这些 404 啊，200啊，301啊，502啊都是服务器的响应码\n",
    "一般服务器给我们返回200\n",
    "那就说明我们成功请求了  \n",
    "(ii)响应头（服务器会给我们返回响应码之外还有响应头）  \n",
    "这个头主要是告诉我们数据以什么样的形式展现\n",
    "告诉我们cookie的设置  \n",
    "(iii)响应体  \n",
    "说白了，就是服务器返回给我们的数据\n",
    "我们点击 Response 就可以看到相关的数据了  \n"
   ]
  },
  {
   "cell_type": "markdown",
   "metadata": {},
   "source": [
    "#  爬虫入门02 教你通过 Fiddler 进行手机抓包\n",
    "\n",
    "https://www.telerik.com/download/fiddler\n",
    "\n",
    "##  左栏\n",
    "Result : 请求的 HTTP(s) 状态吗  \n",
    "Protocol : 请求协议  \n",
    "HOST : 请求的主机名  \n",
    "URL : 请求的资源目录位置  \n",
    "Body : 请求大小  \n",
    "Caching : 请求的缓存  \n",
    "Content-Type : 服务器响应的实体类型  \n",
    "Process : 是谁（进程）发送的  \n",
    "Comments : 备注  \n",
    "Custom : 自定义  \n",
    "\n",
    "## 右栏\n",
    "当我们点击某一条请求后  \n",
    "在右边的 Insepector 中就可以看到具体的请求和返回信息内容了\n"
   ]
  },
  {
   "cell_type": "markdown",
   "metadata": {},
   "source": [
    "#  python爬虫03：那个叫做 Urllib 的库让我们的 python 假装是浏览器  \n",
    "\n",
    "## Urllib 的库四个模块  \n",
    "### request\n",
    "request模块是我们用的比较多的就是用它来发起请求所以我们重点说说这个模块  \n",
    "\n",
    "## error\n",
    "error模块呢，就是当我们在使用 request 模块遇到错了就可以用它来进行异常处理  \n",
    "\n",
    "## parse\n",
    "parse模块就是用来解析我们的 URL 地址的，比如解析域名地址啦，URL指定的目录等  \n",
    "\n",
    "## robotparser\n",
    "这个用的就比较少了，它就是用来解析网站的 robot.txt\n",
    "\n",
    "\n",
    "\n",
    "\n",
    "\n"
   ]
  },
  {
   "cell_type": "code",
   "execution_count": null,
   "metadata": {},
   "outputs": [],
   "source": [
    "##request 模块中的 urlopen 方法\n",
    "#首先我们导入 urllib 的请求模块\n",
    "import urllib.request\n",
    "urllib.request.urlopen('http://www.baidu.com')  #这句话是用来访问百度的\n",
    "response = urllib.request.urlopen('http://www.baidu.com')\n",
    "print(response.read().decode('utf-8'))\n",
    "\n"
   ]
  },
  {
   "cell_type": "markdown",
   "metadata": {},
   "source": [
    "## request 模块中的 urlopen 方法\n",
    "request 的 **urlopen** 方法  \n",
    "可以传入的参数主要有 3 个  \n",
    ">>> __urllib.request.urlopen(url, data=None, [timeout, ]*)__  \n",
    "  \n",
    "1.第一个 url 就是我们请求的链接比如我们刚刚就请求百度  \n",
    "2.第二个参数 data就是专门给我们 post 请求携带参数的比如我们在登录的时候  \n",
    "可以把用户名密码封装成 data 传过去在这里的 data 的值我们可以用 byte 的类型传递  \n",
    "3.第三个参数 timeout 就是设置请求超时时间如果等好久服务器都没有给我们返回数据我们就不鸟他了！\n",
    "\n",
    "## 如果我们要欺骗服务器说我们是浏览器或者手机请求的呢？\n",
    "\n",
    "就该让 request 模块中的 **Request** 方法出场了\n",
    "这个 Request 方法的参数多一些  \n",
    "主要的参数  \n",
    ">>> **urllib.request.Request(url, data=None, headers={}, method=None)**  \n",
    "  \n",
    "我们除了定义 url 和 data 之外 ,我们还可以定义请求头信息  \n",
    "urlopen 默认是 Get 请求,当我们传入参数它就为 Post 请求了  \n",
    "而 Request 可以让我们自己定义请求的方式  \n",
    "这样我们就可以使用 Request 来封装我们的请求信息\n",
    "\n",
    "## 模拟登入https://biihu.cc/\n",
    "\n",
    "\n",
    "\n"
   ]
  },
  {
   "cell_type": "code",
   "execution_count": 5,
   "metadata": {},
   "outputs": [
    {
     "name": "stdout",
     "output_type": "stream",
     "text": [
      "<!DOCTYPE html PUBLIC \"-//W3C//DTD XHTML 1.0 Transitional//EN\"\n",
      "        \"http://www.w3.org/TR/xhtml1/DTD/xhtml1-transitional.dtd\">\n",
      "<html xmlns=\"http://www.w3.org/1999/xhtml\">\n",
      "\t<head>\n",
      "\t\t<title>biihu&#46;cc</title>\n",
      "\t\t<meta http-equiv=\"Content-Type\" content=\"text/html; charset=utf-8\"/>\n",
      "\t\t<script type='text/javascript' language='JavaScript'>\n",
      "var domain = 'biihu.cc';\n",
      "var uniqueTrackingID = 'MTcxNjAzNTAzNC4zNDMyOmJkYjBkYTM3MjU4YWQ2ZTI3YTA3YWYzZTNhZDNhMTdhNmQ5N2JhM2E2NzZkOTNlMjFmODc2MzM1OTY2Y2M5NGY6NjY0ODlkZGE1M2NhMw==';\n",
      "var clickTracking = true;\n",
      "var themedata = '';\n",
      "var xkw = '';\n",
      "var xsearch = '';\n",
      "var xpcat = '';\n",
      "var bucket = '';\n",
      "var clientID = '';\n",
      "var clientIDs = '';\n",
      "var num_ads = 0;\n",
      "var adtest = 'off';\n",
      "var scriptPath = '';\n",
      "\t\t</script>\n",
      "\t\t<script src='//d38psrni17bvxu.cloudfront.net/scripts/js3.js' type='text/javascript' language='JavaScript'></script>\n",
      "\t\t<script type=\"text/javascript\">themedata = 'fENsZWFuUGVwcGVybWludEJsYWNrfHw1Y2U4NHxidWNrZXQwMTF8fHx8fHw2NjQ4OWRkYTUzYzY4fHx8MTcxNjAzNTAzNC42MDc2fDQyY2E3ZTdiNDNlNjQ3MjE3YTQzM2E2NDc1ODJlYTQxMzZkMDM4NTB8fHx8fDF8fDB8MHx8fHwxfHx8fHwwfDB8fHx8fHx8fHx8MHwwfHwwfHx8MHwwfFcxMD18fDF8VzEwPXwyM2Y5MDk5MTI4NWZlZjFhYTZhODY0ODFkMzQ0NTVhNDY2NjE5ODk3fDB8fDB8MHx8';</script>\n",
      "\t</head>\n",
      "\t<body>\n",
      "        <script type=\"text/javascript\">var ls = function(xhr, path, token) {\n",
      "    xhr.onreadystatechange = function () {\n",
      "        if (xhr.readyState === XMLHttpRequest.DONE) {\n",
      "            if (xhr.status >= 200 && xhr.status <= 400) {\n",
      "                if (xhr.responseText.trim() === '') {\n",
      "                    return;\n",
      "                }\n",
      "    \n",
      "                console.log(JSON.parse(xhr.responseText))\n",
      "            } else {\n",
      "                console.log('There was a problem with the request.');\n",
      "            }\n",
      "        }\n",
      "    }\n",
      "    \n",
      "    xhr.open('GET', path + '/ls.p' + 'hp?t=66489dda&token=' + encodeURI(token), true);\n",
      "    xhr.send();\n",
      "};\n",
      "ls(new XMLHttpRequest(), scriptPath, '23f90991285fef1aa6a86481d34455a466619897');</script>\n",
      "\t\t<script type='text/javascript' language='JavaScript'>\n",
      "window.onload = function() {\n",
      "\tif(clickTracking && typeof track_onclick == 'function') track_onclick(\"32051b50bd7aabb90d9599a05f7ddce1c04c1333\");\n",
      "\ttop.location.href = \"http://salvi-fov.com/zclkvisitor/7e0a3444-1511-11ef-9a40-1206687f0c6b/672f4420-5557-11ed-ac46-0a211f7a4db9?campaignid=02257830-3c00-11ed-a49b-0a918cbcbb97\";\n",
      "};\n",
      "\t\t</script>\n",
      "\t</body>\n",
      "</html>\n",
      "\n"
     ]
    }
   ],
   "source": [
    "from urllib import request,parse\n",
    "import ssl\n",
    "#在这里我们还要导入 ssl\n",
    "#因为逼乎这个b用的是 https\n",
    "#我们可以使用 ssl 未经验证的上下文\n",
    "\n",
    "context = ssl._create_unverified_context()\n",
    "\n",
    "#接着定义一下我们的请求 url 和 header\n",
    "url = 'https://biihu.cc//account/ajax/login_process/'\n",
    "headers = {\n",
    "    #假装自己是浏览器\n",
    "    'User-Agent':' Mozilla/5.0 (Windows NT 6.1; Win64; x64) AppleWebKit/537.36 (KHTML, like Gecko) Chrome/71.0.3578.98 Safari/537.36',\n",
    "}\n",
    "\n",
    "#再定义一下我们的请求参数（这个是从fiddler中的 Webforms中的得到的）\n",
    "dict = {\n",
    "    'return_url':'https://biihu.cc/',\n",
    "    'user_name':'xiaoshuaib@gmail.com',\n",
    "    'password':'123456789',\n",
    "    '_post_type':'ajax',\n",
    "}\n",
    "\n",
    "#我们把请求的参数转化为 byte\n",
    "data = bytes(parse.urlencode(dict),'utf-8')\n",
    "#然后我们就可以封装 request 了\n",
    "req = request.Request(url,data=data,headers=headers,method='POST')\n",
    "#最后我们进行请求\n",
    "response = request.urlopen(req,context=context)\n",
    "print(response.read().decode('utf-8'))\n",
    "\n",
    "\n"
   ]
  },
  {
   "cell_type": "markdown",
   "metadata": {},
   "source": [
    "# python爬虫04 |长江后浪推前浪，Reuqests库把urllib库拍在沙滩上\n",
    "\n",
    "## 毕竟 Requests 是在 urllib 的基础上搞出来的\n",
    "\n",
    "#### 导入 requests 模块\n",
    ">>> **import requests** \n",
    "### request 请求指令 \n",
    "#### 1.一行代码 Get 请求\n",
    ">>> r = requests.get('https://api.github.com/events')  \n",
    "### 2.一行代码 Post 请求\n",
    ">>> r = requests.post('https://httpbin.org/post', data = {'key':'value'})  \n",
    "### 3.其它乱七八糟的 Http 请求\n",
    ">>> r = requests.put('https://httpbin.org/put', data = {'key':'value'})\n",
    ">>> r = requests.delete('https://httpbin.org/delete')\n",
    ">>> r = requests.head('https://httpbin.org/get')\n",
    ">>> r = requests.options('https://httpbin.org/get')  \n",
    "\n"
   ]
  },
  {
   "cell_type": "markdown",
   "metadata": {},
   "source": []
  },
  {
   "cell_type": "markdown",
   "metadata": {},
   "source": [
    "## 针对 get指令\n",
    "#### 想要携带请求参数是吧？\n",
    ">>> payload = {'key1': 'value1', 'key2': 'value2'}  \n",
    ">>> r = requests.get('https://httpbin.org/get', params=payload)    \n",
    "\n",
    "#### 假装自己是浏览器\n",
    ">>> url = 'https://api.github.com/some/endpoint'  \n",
    ">>> headers = {'user-agent': 'my-app/0.0.1'}  \n",
    ">>> r = requests.get(url, headers=headers)    \n",
    "#### 获取服务器响应文本内容\n",
    ">>> import requests\n",
    ">>> r = requests.get('https://api.github.com/events')  \n",
    ">>> r.text    \n",
    "\n",
    "u'[{\"repository\":{\"open_issues\":0,\"url\":\"https://github.com/...\n",
    "\n",
    ">>> r.encoding   \n",
    "\n",
    "'utf-8'\n",
    "\n",
    "##### 获取字节响应内容\n",
    ">>> r.content  \n",
    "\n",
    "b'[{\"repository\":{\"open_issues\":0,\"url\":\"https://github.com/...\n",
    "#### 获取响应码\n",
    ">>> r = requests.get('https://httpbin.org/get')  \n",
    ">>> r.status_code    \n",
    "\n",
    "200\n",
    "\n",
    "#### 获取响应头\n",
    ">>> r.headers    \n",
    "\n",
    "{    \n",
    "    'content-encoding': 'gzip',    \n",
    "    'transfer-encoding': 'chunked',  \n",
    "    'connection': 'close',    \n",
    "    'server': 'nginx/1.0.4',    \n",
    "    'x-runtime': '148ms',    \n",
    "    'etag': '\"e1ca502697e5c9317743dc078f67693f\"',   \n",
    "    'content-type': 'application/json'\n",
    "    \n",
    "}\n",
    "\n",
    "#### 获取 Json 响应内容\n",
    ">>> import requests  \n",
    ">>> r = requests.get('https://api.github.com/events')  \n",
    ">>> r.json()    \n",
    "\n",
    "[{u'repository': {u'open_issues': 0, u'url': 'https://github.com/...\n",
    "#### 获取 socket 流响应内容\n",
    ">>> r = requests.get('https://api.github.com/events', stream=True)  \n",
    ">>> r.raw    \n",
    "\n",
    "<urllib3.response.HTTPResponse object at 0x101194810>\n",
    ">>> r.raw.read(10)   \n",
    "\n",
    "'\\x1f\\x8b\\x08\\x00\\x00\\x00\\x00\\x00\\x00\\x03'\n",
    "\n",
    "#### 获取 cookie 信息\n",
    ">>> url = 'http://example.com/some/cookie/setting/url'  \n",
    ">>> r = requests.get(url)  \n",
    ">>> r.cookies['example_cookie_name']    \n",
    "\n",
    "'example_cookie_value'\n",
    "#### 发送 cookie 信息\n",
    ">>> url = 'https://httpbin.org/cookies'    \n",
    ">>> cookies = dict(cookies_are='working')    \n",
    ">>> r = requests.get(url, cookies=cookies)    \n",
    ">>> r.text   \n",
    "\n",
    "'{\"cookies\": {\"cookies_are\": \"working\"}}'\n",
    "#### 设置超时\n",
    ">>> requests.get('https://github.com/', timeout=0.001)      \n",
    "\n",
    "Traceback (most recent call last):\n",
    "  File \"<stdin>\", line 1, in <module>requests.exceptions.Timeout: HTTPConnectionPool(host='github.com', port=80): Request timed out. (timeout=0.001)\n",
    "\n",
    "\n",
    "## 针对 post指令\n",
    "#### 当你想要一个键里面添加多个值的时候\n",
    ">>> payload_tuples = [('key1', 'value1'), ('key1', 'value2')]  \n",
    ">>> r1 = requests.post('https://httpbin.org/post', data=payload_tuples)  \n",
    ">>> payload_dict = {'key1': ['value1', 'value2']}    \n",
    ">>> r2 = requests.post('https://httpbin.org/post', data=payload_dict)    \n",
    ">>> print(r1.text)  \n",
    "\n",
    "{  ...  \"form\": {    \"key1\": [      \"value1\",      \"value2\"    ]  },  ...}\n",
    ">>> r1.text == r2.text  \n",
    "\n",
    "True\n",
    "#### 请求的时候用 json 作为参数\n",
    ">>> url = 'https://api.github.com/some/endpoint'  \n",
    ">>> payload = {'some': 'data'}  \n",
    ">>> r = requests.post(url, json=payload)  \n",
    "#### 想上传文件？\n",
    ">>> url = 'https://httpbin.org/post'  \n",
    ">>> files = {'file': open('report.xls', 'rb')}  \n",
    ">>> r = requests.post(url, files=files)  \n",
    ">>> r.text    \n",
    "\n",
    "{  ...  \"files\": {    \"file\": \"<censored...binary...data>\"  },  ...}\n",
    "\n",
    "  \n",
    "\n",
    "\n",
    "\n",
    "\n",
    "\n",
    "\n",
    "\n",
    "\n",
    "\n",
    "\n",
    "\n",
    "\n",
    "\n",
    "\n",
    "\n",
    "\n",
    "\n",
    "\n",
    "\n",
    "\n",
    "\n",
    "\n",
    "\n",
    "\n",
    "\n",
    "\n"
   ]
  },
  {
   "cell_type": "markdown",
   "metadata": {},
   "source": [
    "# python爬虫05 | 年轻人，不会正则表达式你睡得着觉？有点出息没有？\n",
    "现在你已经会使用 python 模拟浏览器进行一些 Http 的请求了  \n",
    "那么请求完之后，服务器返回给我们一堆源代码  \n",
    "我们可不是啥都要的啊\n",
    "我们要**过滤**  \n",
    "**正则表达式**\n",
    "\n",
    "\n",
    "\n"
   ]
  },
  {
   "cell_type": "markdown",
   "metadata": {},
   "source": [
    "\n",
    "如何从下面这段字符串中快速检索所有的数字出来呢？  \n",
    "zui12shu234ai45der6en7sh88ixia7898os0huaib  \n",
    "\n",
    "\\d 可以表示数字\n",
    "\n",
    "\n",
    "\n"
   ]
  },
  {
   "cell_type": "markdown",
   "metadata": {},
   "source": [
    "#### 通俗的把最常用的匹配告诉你\n",
    "\n",
    "\n",
    "|字符|描述|\n",
    "|---|:---:|\n",
    "|\\d|代表任意数字，就是阿拉伯数字 0-9 这些玩意。| \n",
    "|\\D|大写的就是和小写的唱反调，\\d 你代表的是任意数字是吧？那么我 \\D 就代表不是数字的。|\n",
    "|\\w|代表字母，数字，下划线。也就是 a-z、A-Z、0-9、_。|\n",
    "|\\W|跟 \\w 唱反调，代表不是字母，不是数字，不是下划线的。|\n",
    "|\\n|代表一个换行。|\n",
    "|\\r|代表一个回车。|\n",
    "|\\f|代表换页。|\n",
    "|\\t|代表一个 Tab 。|\n",
    "|\\s|代表所有的空白字符，也就是上面这个：\\n、\\r、\\t、\\f。|\n",
    "|\\S|跟 \\s 唱反调，代表所有不是空白的字符。|\n",
    "|\\A|代表字符串的开始。|\n",
    "|\\Z|代表字符串的结束。|\n",
    "|^|匹配字符串开始的位置。|\n",
    "|$|匹配字符串结束的位置。|\n",
    "|.|代表所有的单个字符，除了 \\n \\r|\n",
    "|[...]|代表在 [] 范围内的字符，比如 [a-z] 就代表 a到z的字母|\n",
    "|[^...]|跟 [...] 唱反调，代表不在 [] 范围内的字符|\n",
    "|{n}|匹配在 {n} 前面的东西，比如: o{2} 不能匹配 Bob 中的 o ，但是能匹配 food 中的两个o。|\n",
    "|{n,m}|匹配在 {n,m} 前面的东西，比如：o{1,3} 将匹配“fooooood”中的前三个o。|\n",
    "|{n，}|匹配在 {n,} 前面的东西，比如：o{2,} 不能匹配“Bob”中的“o”，但能匹配“foooood”中的所有o。|\n",
    "|*|和 {0,} 一个样，匹配 * 前面的 0 次或多次。 比如 zo* 能匹配“z”、“zo”以及“zoo”。|\n",
    "|+|和{1，} 一个样，匹配 + 前面 1 次或多次。 比如 zo+”能匹配“zo”以及“zoo”，但不能匹配“z”。|\n",
    "|？|和{0,1} 一个样，匹配 ？前面 0 次或 1 次。|\n",
    "| alb |匹配 a 或者 b。|\n",
    "|（）|匹配括号里面的内容。|\n",
    "|.*？|是我们在匹配过程中最常使用到的,表示的就是匹配任意字符(. 代表所有的单个字符，除了 \\n \\r如果我们的字符串有换行了怎么办?)|"
   ]
  },
  {
   "cell_type": "markdown",
   "metadata": {},
   "source": [
    "#### 我们怎么用 python 来进行判断呢？\n",
    "那就要使用到 python 的库了  \n",
    ">>> re  \n",
    "##### 接下来我们就来使用 re 模块对其常用的方法来使用正则表达式\n",
    ">>> re.match  \n",
    "\n",
    "主要传入两个参数  \n",
    "1.第一个就是我们的匹配规则  \n",
    "2.第二个就是需要被过滤的内容\n",
    "\n",
    "\n",
    "\n",
    "\n",
    "\n",
    "\n"
   ]
  },
  {
   "cell_type": "code",
   "execution_count": 4,
   "metadata": {},
   "outputs": [
    {
     "name": "stdout",
     "output_type": "stream",
     "text": [
      "0\n"
     ]
    }
   ],
   "source": [
    "#例如我们想要从这 Xiaoshuaib has 100 bananas\n",
    "#拿到一个数字\n",
    "import re\n",
    "content = 'Xiaoshuaib has 100 bananas'\n",
    "res = re.match('^Xi.*(\\d+)\\s.*s$',content)\n",
    "#^开始$是结束\n",
    "#.*代表任意字符\n",
    "#(\\d+)代表数字\n",
    "#\\s.*代表空格和任意字符\n",
    "#.*s$代表任意字符和s结尾\n",
    "print(res.group(1))\n",
    "#group(1)代表第一个括号里面的内容\n",
    "\n"
   ]
  },
  {
   "cell_type": "markdown",
   "metadata": {},
   "source": [
    "通过我们刚刚说的匹配符号  \n",
    "\n",
    "可以定义出相应的匹配规则  \n",
    "在这里我们将我们需要的目标内容用 () 括起来  \n",
    "此刻我们获得结果是  \n",
    ">>>0\n",
    "##### 那么如果我们想要 100 这个数字呢？"
   ]
  },
  {
   "cell_type": "code",
   "execution_count": 5,
   "metadata": {},
   "outputs": [
    {
     "name": "stdout",
     "output_type": "stream",
     "text": [
      "100\n"
     ]
    }
   ],
   "source": [
    "import re\n",
    "\n",
    "content = 'Xiaoshuaib has 100 bananas'\n",
    "res = re.match('^Xi.*?(\\d+)\\s.*s$',content)\n",
    "#多了一个❓\n",
    "print(res.group(1))"
   ]
  },
  {
   "cell_type": "markdown",
   "metadata": {},
   "source": [
    "#### 一个❓涉及到的概念\n",
    "##### 1.贪婪匹配\n",
    "所谓贪婪匹配  \n",
    "就是我们的第一段代码  \n",
    "一个数一个数都要去匹配\n",
    "##### 2.非贪婪匹配\n",
    "而非贪婪呢  \n",
    "我们是直接把 100 给匹配出来了\n"
   ]
  },
  {
   "cell_type": "markdown",
   "metadata": {},
   "source": [
    "|字符|描述|\n",
    "|---|:---:|\n",
    "|.*？|是我们在匹配过程中最常使用到的,表示的就是匹配任意字符(. 代表所有的单个字符，除了 \\n \\r如果我们的字符串有换行了怎么办?)|  \n",
    "\n",
    "比如：  \n",
    ">>>content = \"\"\"Xiaoshuaib has 100   \n",
    "bananas\"\"\"  \n",
    "\n",
    "##### 那么我们就需要用到 re 的匹配模式了！！！\n",
    "说来也简单\n",
    "直接用 **re.S** 就可以了"
   ]
  },
  {
   "cell_type": "code",
   "execution_count": 1,
   "metadata": {},
   "outputs": [
    {
     "name": "stdout",
     "output_type": "stream",
     "text": [
      "100\n"
     ]
    }
   ],
   "source": [
    "import re\n",
    "\n",
    "content = \"\"\"Xiaoshuaib has 100 \n",
    "bananas\"\"\"\n",
    "#res = re.match('^Xi.*?(\\d+)\\s.*s$',content)这个是上面那个例子的代码\n",
    "res = re.match('^Xi.*?(\\d+)\\s.*s$',content,re.S)\n",
    "print(res.group(1))"
   ]
  },
  {
   "cell_type": "markdown",
   "metadata": {},
   "source": [
    "##### 可能有些朋友会觉得匹配一个东西还要**写开头结尾**有点麻烦\n",
    " 那么就可以使用 re 的另一个方法了\n",
    ">>> re.search  \n",
    "\n",
    "它会直接去扫描字符串,然后把匹配成功的**第一个结果**的返回给你\n",
    "##### 注意是第一个结果\n",
    "\n",
    "\n",
    "\n"
   ]
  },
  {
   "cell_type": "code",
   "execution_count": 2,
   "metadata": {},
   "outputs": [
    {
     "name": "stdout",
     "output_type": "stream",
     "text": [
      "100\n"
     ]
    }
   ],
   "source": [
    "import re\n",
    "\n",
    "content = \"\"\"Xiaoshuaib has 100 \n",
    "bananas\"\"\"\n",
    "#res = re.match('^Xi.*?(\\d+)\\s.*s$',content,re.S)这个是上面那个例子的代码\n",
    "#下面这个少了^和$，match改成了search\n",
    "res = re.search('Xi.*?(\\d+)\\s.*s',content,re.S)\n",
    "print(res.group(1))"
   ]
  },
  {
   "cell_type": "markdown",
   "metadata": {},
   "source": [
    "##### 但是如果我们的内容是这样的\n",
    ">>>content = \"\"\"Xiaoshuaib has 100 bananas;  \n",
    "Xiaoshuaib has 100 bananas;  \n",
    "Xiaoshuaib has 100 bananas;  \n",
    "Xiaoshuaib has 100 bananas;\"\"\"  \n",
    "\n",
    "##### 想要获取所有的 100 呢？\n",
    "##### 这时候就要用到 re 的另一个方法了!!!!\n",
    ">>> re.findall\n",
    "\n",
    "\n"
   ]
  },
  {
   "cell_type": "code",
   "execution_count": 3,
   "metadata": {},
   "outputs": [
    {
     "name": "stdout",
     "output_type": "stream",
     "text": [
      "['100', '100', '100', '100']\n"
     ]
    }
   ],
   "source": [
    "\n",
    "import re\n",
    "\n",
    "content = \"\"\"Xiaoshuaib has 100 bananas;\n",
    "Xiaoshuaib has 100 bananas;\n",
    "Xiaoshuaib has 100 bananas;\n",
    "Xiaoshuaib has 100 bananas;\"\"\"\n",
    "res = re.findall('Xi.*?(\\d+)\\s.*?s;',content,re.S)\n",
    "print(res)"
   ]
  },
  {
   "cell_type": "markdown",
   "metadata": {},
   "source": [
    "又有朋友觉得  \n",
    "如果我们想直接替换匹配的内容呢  \n",
    "就比如刚刚的字符串  \n",
    "可不可以把 100 直接替换成 250 呢？  \n",
    "##### 那就要用到 re 的另一个方法了\n",
    ">>> re.sub\n",
    "\n"
   ]
  },
  {
   "cell_type": "code",
   "execution_count": 4,
   "metadata": {},
   "outputs": [
    {
     "name": "stdout",
     "output_type": "stream",
     "text": [
      "Xiaoshuaib has 250 bananas;\n",
      "Xiaoshuaib has 250 bananas;\n",
      "Xiaoshuaib has 250 bananas;\n",
      "Xiaoshuaib has 250 bananas;\n"
     ]
    }
   ],
   "source": [
    "import re\n",
    "\n",
    "content = \"\"\"Xiaoshuaib has 100 bananas;\n",
    "Xiaoshuaib has 100 bananas;\n",
    "Xiaoshuaib has 100 bananas;\n",
    "Xiaoshuaib has 100 bananas;\"\"\"\n",
    "content = re.sub('\\d+','250',content)\n",
    "print(content)\n"
   ]
  },
  {
   "cell_type": "markdown",
   "metadata": {},
   "source": [
    "##### 再来说说 re 的另一个常用到的方法吧\n",
    "### 这个主要就是把我们的匹配符封装一下\n",
    ">>> re.compile"
   ]
  },
  {
   "cell_type": "code",
   "execution_count": 5,
   "metadata": {},
   "outputs": [
    {
     "name": "stdout",
     "output_type": "stream",
     "text": [
      "100\n"
     ]
    }
   ],
   "source": [
    "import re\n",
    "\n",
    "content = \"Xiaoshuaib has 100 bananas\"\n",
    "pattern = re.compile('Xi.*?(\\d+)\\s.*s',re.S)\n",
    "res = re.match(pattern,content)\n",
    "\n",
    "print(res.group(1))"
   ]
  },
  {
   "cell_type": "markdown",
   "metadata": {},
   "source": [
    "其实和我们之前写的一样的  \n",
    ">>> res = re.match('^Xi.*?(\\d+)\\s.*s$',content,re.S)  \n",
    "\n",
    "只不过 compile 一下  \n",
    "便于以后复用\n",
    "\n"
   ]
  },
  {
   "cell_type": "markdown",
   "metadata": {},
   "source": [
    "# python爬虫06 | 你的第一个爬虫，爬取当当网 Top 500 本五星好评书籍\n",
    "http://bang.dangdang.com/books/fivestars/01.00.00.00.00.00-recent30-0-0-1-1  \n",
    "我们翻到下一页的时候，网页变成了  \n",
    "http://bang.dangdang.com/books/fivestars/01.00.00.00.00.00-recent30-0-0-1-2  \n",
    "也就是我们翻到第几页的时候  \n",
    "链接地址的最后一个参数会跟着变  \n",
    "那么我们等会在 python 中可以用一个变量  \n",
    "来实现获取不同页数的内容  \n",
    "\n",
    "\n",
    "\n"
   ]
  },
  {
   "cell_type": "markdown",
   "metadata": {},
   "source": [
    "用我们之前说的 Chrome 骚操作  \n",
    "来分析一下  \n",
    "我们要的内容是怎么请求的  \n",
    "以及  \n",
    "返回给我们的源代码是什么样的  "
   ]
  },
  {
   "cell_type": "markdown",
   "metadata": {},
   "source": [
    "##### 1.Chorm F12\n",
    "我们通过 GET 请求  \n",
    "我们的请求头  \n",
    "这是服务器返回来的数据（Response）\n",
    "##### 2.接着我们再来分析一下我们要抓取的关键信息\n",
    "我们要的就是前 500 本书的  \n",
    "**排名**    \n",
    "**书名**    \n",
    "**图片地址**   \n",
    "**作者**  \n",
    "**推荐指数**   \n",
    "**五星评分次数**    \n",
    "**价格**  \n",
    "\n",
    "##### 3.我们主要分析的是response里面的东西\n",
    "（i）使用ctrl F搜索“相关信息：来分析我们抓取的关键信息的位置\n",
    "(ii)\n",
    "主要思路  \n",
    "使用 page 变量来实现翻页  \n",
    "我们使用 requests 请求当当网  \n",
    "然后将返回的 HTML 进行正则解析  \n",
    "由于我们暂时还没学到数据库  \n",
    "所以解析完之后就把内容存到文件中  \n",
    "\n",
    "\n",
    "\n",
    "\n"
   ]
  },
  {
   "cell_type": "code",
   "execution_count": 1,
   "metadata": {},
   "outputs": [],
   "source": [
    "import requests\n",
    "import re\n",
    "import json\n",
    "\n",
    "import requests\n",
    "import re\n",
    "import json\n",
    "\n",
    "\n",
    "def request_dandan(url):\n",
    "    try:\n",
    "        response = requests.get(url)\n",
    "        if response.status_code == 200:\n",
    "            return response.text\n",
    "    except requests.RequestException as e:\n",
    "        print(e)\n",
    "        return None\n",
    "\n",
    "#用来封装\n",
    "def parse_result(html):\n",
    "    pattern = re.compile(\n",
    "        '<li.*?list_num.*?(\\d+)\\.</div>.*?< img src=\"(.*?)\".*?class=\"name\".*?title=\"(.*?)\">.*?class=\"star\">.*?class=\"tuijian\">(.*?)</span>.*?class=\"publisher_info\">.*?target=\"_blank\">(.*?)</a >.*?class=\"biaosheng\">.*?<span>(.*?)</span></div>.*?<p><span class=\"price_n\">(.*?)</span>.*?</li>', re.S)\n",
    "    items = re.findall(pattern, html)\n",
    "\n",
    "    for item in items:\n",
    "        yield {\n",
    "            'range': item[0],\n",
    "            'image': item[1],\n",
    "            'title': item[2],\n",
    "            'recommend': item[3],\n",
    "            'author': item[4],\n",
    "            'times': item[5],\n",
    "            'price': item[6]\n",
    "        }\n",
    "\n",
    "\n",
    "def write_item_to_file(item):\n",
    "    print('开始写入数据 ====> ' + str(item))\n",
    "    with open('book.txt', 'a', encoding='UTF-8') as f:\n",
    "        f.write(json.dumps(item, ensure_ascii=False) + '\\n')\n",
    "\n",
    "\n",
    "def main(page):\n",
    "    url = 'http://bang.dangdang.com/books/fivestars/01.00.00.00.00.00-recent30-0-0-1-' + str(page)\n",
    "    html = request_dandan(url)\n",
    "    items = parse_result(html)  # 解析过滤我们想要的信息\n",
    "    for item in items:\n",
    "        write_item_to_file(item)\n",
    "\n",
    "\n",
    "if __name__ == \"__main__\":\n",
    "    for i in range(1, 26):\n",
    "        main(i)\n",
    "\n",
    "\n",
    "\n"
   ]
  }
 ],
 "metadata": {
  "kernelspec": {
   "display_name": "Python 3",
   "language": "python",
   "name": "python3"
  },
  "language_info": {
   "codemirror_mode": {
    "name": "ipython",
    "version": 3
   },
   "file_extension": ".py",
   "mimetype": "text/x-python",
   "name": "python",
   "nbconvert_exporter": "python",
   "pygments_lexer": "ipython3",
   "version": "3.10.11"
  }
 },
 "nbformat": 4,
 "nbformat_minor": 2
}
